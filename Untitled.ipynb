{
 "cells": [
  {
   "cell_type": "code",
   "execution_count": 1,
   "id": "5aeded56",
   "metadata": {},
   "outputs": [
    {
     "ename": "IndentationError",
     "evalue": "expected an indented block (Temp/ipykernel_10772/4283043116.py, line 1)",
     "output_type": "error",
     "traceback": [
      "\u001b[1;36m  File \u001b[1;32m\"C:\\Users\\hafiz\\AppData\\Local\\Temp/ipykernel_10772/4283043116.py\"\u001b[1;36m, line \u001b[1;32m1\u001b[0m\n\u001b[1;33m    def display():\u001b[0m\n\u001b[1;37m                  ^\u001b[0m\n\u001b[1;31mIndentationError\u001b[0m\u001b[1;31m:\u001b[0m expected an indented block\n"
     ]
    }
   ],
   "source": [
    "def display():"
   ]
  },
  {
   "cell_type": "markdown",
   "id": "30245698",
   "metadata": {},
   "source": [
    "def dispay():\n",
    "    x=100\n",
    "    X += 30"
   ]
  },
  {
   "cell_type": "code",
   "execution_count": 5,
   "id": "4412472f",
   "metadata": {},
   "outputs": [],
   "source": [
    "def display():\n",
    "    x = 10\n",
    "    print (x)\n",
    "    x = x+10"
   ]
  },
  {
   "cell_type": "code",
   "execution_count": null,
   "id": "58cc064b",
   "metadata": {},
   "outputs": [],
   "source": []
  }
 ],
 "metadata": {
  "kernelspec": {
   "display_name": "Python 3 (ipykernel)",
   "language": "python",
   "name": "python3"
  },
  "language_info": {
   "codemirror_mode": {
    "name": "ipython",
    "version": 3
   },
   "file_extension": ".py",
   "mimetype": "text/x-python",
   "name": "python",
   "nbconvert_exporter": "python",
   "pygments_lexer": "ipython3",
   "version": "3.9.7"
  }
 },
 "nbformat": 4,
 "nbformat_minor": 5
}
