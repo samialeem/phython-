{
 "cells": [
  {
   "cell_type": "code",
   "execution_count": null,
   "id": "1ac4feb3",
   "metadata": {},
   "outputs": [],
   "source": [
    "print (\"Enter your first Number\")\n",
    "n1 = input()\n",
    "\n",
    "print (\"Enter your Second Number\")\n",
    "n2 = input()\n",
    "\n",
    "print (\"Sum of these Numbers is \" int(n1)+ int(n2))"
   ]
  },
  {
   "cell_type": "code",
   "execution_count": null,
   "id": "24273e8f",
   "metadata": {},
   "outputs": [],
   "source": [
    "print(\"hello world\""
   ]
  },
  {
   "cell_type": "code",
   "execution_count": null,
   "id": "30cb2d61",
   "metadata": {},
   "outputs": [],
   "source": []
  }
 ],
 "metadata": {
  "kernelspec": {
   "display_name": "Python 3 (ipykernel)",
   "language": "python",
   "name": "python3"
  },
  "language_info": {
   "codemirror_mode": {
    "name": "ipython",
    "version": 3
   },
   "file_extension": ".py",
   "mimetype": "text/x-python",
   "name": "python",
   "nbconvert_exporter": "python",
   "pygments_lexer": "ipython3",
   "version": "3.9.7"
  }
 },
 "nbformat": 4,
 "nbformat_minor": 5
}
