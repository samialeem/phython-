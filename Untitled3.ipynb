{
 "cells": [
  {
   "cell_type": "code",
   "execution_count": 2,
   "id": "208cf071",
   "metadata": {},
   "outputs": [
    {
     "name": "stdout",
     "output_type": "stream",
     "text": [
      "hello world\n"
     ]
    }
   ],
   "source": [
    "print(\"hello world\")"
   ]
  },
  {
   "cell_type": "code",
   "execution_count": null,
   "id": "fd885a7e",
   "metadata": {},
   "outputs": [],
   "source": [
    "print (\"enter your first number\")\n",
    "n1 = input()\n",
    "print (\"enter your secong number\")\n",
    "n2 = input ()"
   ]
  },
  {
   "cell_type": "code",
   "execution_count": null,
   "id": "b1382308",
   "metadata": {},
   "outputs": [],
   "source": [
    "print (\"enter your first number\")\n",
    "n1 = input()\n",
    "print (\"enter your secong number\")\n",
    "n2 = input ()"
   ]
  }
 ],
 "metadata": {
  "kernelspec": {
   "display_name": "Python 3 (ipykernel)",
   "language": "python",
   "name": "python3"
  },
  "language_info": {
   "codemirror_mode": {
    "name": "ipython",
    "version": 3
   },
   "file_extension": ".py",
   "mimetype": "text/x-python",
   "name": "python",
   "nbconvert_exporter": "python",
   "pygments_lexer": "ipython3",
   "version": "3.9.7"
  }
 },
 "nbformat": 4,
 "nbformat_minor": 5
}
